{
 "cells": [
  {
   "cell_type": "code",
   "execution_count": 1,
   "id": "b47e9c81",
   "metadata": {},
   "outputs": [
    {
     "name": "stdout",
     "output_type": "stream",
     "text": [
      "Twinkle, twinkle, little star,\n",
      "      \n",
      "\t\tHow I wonder what you are!\n",
      "      \n",
      "\t\t\t\tUp above the world so high,\n",
      "      \n",
      "\t\t\t\tLike a diamond in the sky.\n",
      "      \n",
      "Twinkle, twinkle, little star,\n",
      "       \n",
      "\t\tHow I wonder what you are!\n"
     ]
    }
   ],
   "source": [
    "#(1)Write a Python program to print the following string in a specific format (see the\n",
    "#output).\n",
    "\n",
    "#Twinkle, twinkle, little star,\n",
    "#How I wonder what you are!\n",
    "#Up above the world so high,\n",
    "#Like a diamond in the sky.\n",
    "\n",
    "#Twinkle, twinkle, little star,\n",
    "#How I wonder what you are\n",
    "print('''Twinkle, twinkle, little star,\n",
    "      \\n\\t\\tHow I wonder what you are!\n",
    "      \\n\\t\\t\\t\\tUp above the world so high,\n",
    "      \\n\\t\\t\\t\\tLike a diamond in the sky.\n",
    "      \\nTwinkle, twinkle, little star,\n",
    "       \\n\\t\\tHow I wonder what you are!''');"
   ]
  },
  {
   "cell_type": "code",
   "execution_count": 2,
   "id": "e61e9008",
   "metadata": {},
   "outputs": [
    {
     "name": "stdout",
     "output_type": "stream",
     "text": [
      "3.8.8 (default, Apr 13 2021, 15:08:03) [MSC v.1916 64 bit (AMD64)]\n"
     ]
    }
   ],
   "source": [
    "#(2)Write a Python program to get the Python version you are using\n",
    "import sys\n",
    "print(sys.version)"
   ]
  },
  {
   "cell_type": "code",
   "execution_count": 3,
   "id": "31f9eac4",
   "metadata": {},
   "outputs": [
    {
     "name": "stdout",
     "output_type": "stream",
     "text": [
      "now = 2021-12-28 22:44:21.772782\n",
      "date and time = 28/12/2021 22:44:21\n"
     ]
    }
   ],
   "source": [
    "#(3)Write a Python program to display the current date and time.\n",
    "from datetime import datetime\n",
    "\n",
    "# datetime object containing current date and time\n",
    "now = datetime.now()\n",
    " \n",
    "print(\"now =\", now)\n",
    "\n",
    "# dd/mm/YY H:M:S\n",
    "dt_string = now.strftime(\"%d/%m/%Y %H:%M:%S\")\n",
    "print(\"date and time =\", dt_string)"
   ]
  },
  {
   "cell_type": "code",
   "execution_count": 4,
   "id": "8127964e",
   "metadata": {},
   "outputs": [
    {
     "name": "stdout",
     "output_type": "stream",
     "text": [
      "Input the radius of the circle : 3\n",
      "The area of the circle with radius 3.0 is: 28.274333882308138\n"
     ]
    }
   ],
   "source": [
    "#(4)Write a Python program which accepts the radius of a circle from the user and compute\n",
    "#the area.\n",
    "from math import pi\n",
    "r = float(input (\"Input the radius of the circle : \"))\n",
    "print (\"The area of the circle with radius \" + str(r) + \" is: \" + str(pi * r**2))"
   ]
  },
  {
   "cell_type": "code",
   "execution_count": 5,
   "id": "3ccab831",
   "metadata": {},
   "outputs": [
    {
     "name": "stdout",
     "output_type": "stream",
     "text": [
      "enter the first name4\n",
      "enter the last name5\n",
      "5 4\n"
     ]
    }
   ],
   "source": [
    "#(5)Write a Python program which accepts the user's first and last name and print them in\n",
    "#reverse order with a space between them.\n",
    "first=input(\"enter the first name\");\n",
    "last=input(\"enter the last name\");\n",
    "print(last+\" \"+first);"
   ]
  },
  {
   "cell_type": "code",
   "execution_count": 6,
   "id": "9ad89e41",
   "metadata": {},
   "outputs": [
    {
     "name": "stdout",
     "output_type": "stream",
     "text": [
      "enter the number one6\n",
      "enter the number two7\n",
      "the addition of two number is 13\n"
     ]
    }
   ],
   "source": [
    "#(6)Write a python program which takes two inputs from user and print them addition\n",
    "num1=int(input(\"enter the number one\"));\n",
    "num2=int(input(\"enter the number two\"));\n",
    "print(\"the addition of two number is\",num1+num2);"
   ]
  },
  {
   "cell_type": "code",
   "execution_count": null,
   "id": "e6d2e4a4",
   "metadata": {},
   "outputs": [],
   "source": []
  }
 ],
 "metadata": {
  "kernelspec": {
   "display_name": "Python 3",
   "language": "python",
   "name": "python3"
  },
  "language_info": {
   "codemirror_mode": {
    "name": "ipython",
    "version": 3
   },
   "file_extension": ".py",
   "mimetype": "text/x-python",
   "name": "python",
   "nbconvert_exporter": "python",
   "pygments_lexer": "ipython3",
   "version": "3.8.8"
  }
 },
 "nbformat": 4,
 "nbformat_minor": 5
}
